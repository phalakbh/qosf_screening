{
 "cells": [
  {
   "cell_type": "markdown",
   "metadata": {},
   "source": [
    "Task 1 find the primes numbers\n",
    "\n",
    "Given a positive integer and an list of prime numbers, look for the two prime numbers, that sum the positive number. Consider an appropriate number of qubits and explain why your proposal is valid for all kinds of numbers in case \n",
    "\n",
    "def find_the_primes_numbers (int:number_1, list[int] ,number_2):\n",
    "     “””\n",
    "    number_1 : integer value that is the positive number to decompose,\n",
    "    number_2 : integer list that has two prime numbers to add to obtain number_1.\n",
    "    Return the number_a and number_b\n",
    "     “””\n",
    "\n",
    "Example:\n",
    "\n",
    "A = find_the_primes_numbers (18,[1,3,5,7,11,13,15])\n",
    "print(A)\n",
    "\n",
    "“5,13”\n"
   ]
  },
  {
   "cell_type": "markdown",
   "metadata": {},
   "source": [
    "Explanation: \n",
    "In this solution, I assume the summands to be 4-bit binary numbers and the sum to be a 5-bit binary number.\n",
    "The circuit conists of 8 qubits (4 qubits per number) and 9 classical bits(5 for sum, 4 for carry).\n",
    "I have provided the comments in the solution for better understanding."
   ]
  },
  {
   "cell_type": "code",
   "execution_count": 43,
   "metadata": {},
   "outputs": [],
   "source": [
    "#importing required libraries\n",
    "from qiskit import *\n",
    "from qiskit.visualization import plot_histogram\n",
    "%matplotlib inline\n",
    "from qiskit.circuit.library.arithmetic import WeightedAdder"
   ]
  },
  {
   "cell_type": "code",
   "execution_count": 44,
   "metadata": {},
   "outputs": [],
   "source": [
    "# Defining the main function\n",
    "def find_the_primes_numbers(number_1, primelist):\n",
    "   # Shortening the list, since the possible pairs of summands will only consist of prime numbers less than the target number \n",
    "   for i in range(len(primelist)):\n",
    "      if (primelist[i]>number_1):\n",
    "         primelist=primelist[:i]\n",
    "         break\n",
    "   # Checking for every pair, whether the sum equals target or not\n",
    "   for i in range(len(primelist)):\n",
    "      for j in range(i+1,len(primelist)):\n",
    "         if add_numbers(tobinary(primelist[i]),tobinary(primelist[j]))==number_1:\n",
    "            return (primelist[i],primelist[j])\n",
    "   # If no such pair is found\n",
    "   return \"No pair of prime numbers from given list sum up to the target number\"\n",
    "\n",
    "\n",
    "def tobinary(num):\n",
    "   # Converting decimal number to binary string\n",
    "   s=bin(num).replace(\"0b\",\"\")\n",
    "   # Ensure the string is 4 digits long\n",
    "   while (len(s)!=4):\n",
    "      s='0'+s\n",
    "   return s\n",
    "\n",
    "         "
   ]
  },
  {
   "cell_type": "code",
   "execution_count": 45,
   "metadata": {},
   "outputs": [],
   "source": [
    "def add_numbers(num1,num2)->int:\n",
    "    # Create a weighted adder circuit\n",
    "    circuit=WeightedAdder(8,[1,2,4,8,1,2,4,8])\n",
    "\n",
    "    # Create classical registers for sum and carry\n",
    "    sum_res=ClassicalRegister(5, name='sum_res')\n",
    "    carry_res=ClassicalRegister(4,name='carry_res')\n",
    "\n",
    "    # Add registers to the circuit\n",
    "    circuit.add_register(sum_res)\n",
    "    circuit.add_register(carry_res)\n",
    "\n",
    "    # Measure the sum and carry registers\n",
    "    q_sum=circuit.qregs[1]\n",
    "    q_carry=circuit.qregs[2]\n",
    "    circuit.measure(q_sum,sum_res)\n",
    "    circuit.measure(q_carry,carry_res)\n",
    "\n",
    "    # Create quantum circuits for input numbers\n",
    "    val1=QuantumCircuit(4,name='val1')\n",
    "    val2=QuantumCircuit(4, name='val2')\n",
    "\n",
    "    # Applying X gates to represent the input numbers as quantum states\n",
    "    for i in range(len(num1)):\n",
    "        if num1[i]=='1':\n",
    "            val1.x(len(num1)-i-1)\n",
    "        if num2[i]=='1':\n",
    "            val2.x(len(num2)-i-1)\n",
    "\n",
    "    # Compose input number circuits with the weighted adder circuit by adding them in front of the circuit\n",
    "    circuit.compose(val1.to_gate(), qubits=[0,1,2,3], front=True, inplace=True)\n",
    "    circuit.compose(val2.to_gate(), qubits=[4,5,6,7], front=True, inplace=True)\n",
    "\n",
    "    # Execute the circuit on a quantum simulator\n",
    "    backend=Aer.get_backend('qasm_simulator')\n",
    "    result=execute(circuit,backend,shots=10).result()\n",
    "\n",
    "    # Get the output result\n",
    "    output=list(result.get_counts().keys())[0]\n",
    "\n",
    "    # Reversing the number to calculate the resultant decimal number\n",
    "    number=output[-1:-6:-1]\n",
    "    n=0\n",
    "    for i in range(len(number)):\n",
    "        if number[i]=='1':\n",
    "            n+=2**i\n",
    "    # Returning the sum of the numbers\n",
    "    return n"
   ]
  },
  {
   "cell_type": "code",
   "execution_count": 47,
   "metadata": {},
   "outputs": [
    {
     "name": "stdout",
     "output_type": "stream",
     "text": [
      "(5, 13)\n"
     ]
    }
   ],
   "source": [
    "A=find_the_primes_numbers(18,[2,3,5,7,11,13])\n",
    "print(A)"
   ]
  },
  {
   "cell_type": "code",
   "execution_count": 48,
   "metadata": {},
   "outputs": [
    {
     "name": "stdout",
     "output_type": "stream",
     "text": [
      "(3, 7)\n"
     ]
    }
   ],
   "source": [
    "B=find_the_primes_numbers(10,[2,3,5,7,11,13])\n",
    "print(B)"
   ]
  },
  {
   "cell_type": "code",
   "execution_count": 49,
   "metadata": {},
   "outputs": [
    {
     "name": "stdout",
     "output_type": "stream",
     "text": [
      "No pair of prime numbers from given list sum up to the target number\n"
     ]
    }
   ],
   "source": [
    "C=find_the_primes_numbers(6,[2,3,5,7,11,13])\n",
    "print(C)"
   ]
  }
 ],
 "metadata": {
  "kernelspec": {
   "display_name": "Python 3",
   "language": "python",
   "name": "python3"
  },
  "language_info": {
   "codemirror_mode": {
    "name": "ipython",
    "version": 3
   },
   "file_extension": ".py",
   "mimetype": "text/x-python",
   "name": "python",
   "nbconvert_exporter": "python",
   "pygments_lexer": "ipython3",
   "version": "3.9.6"
  },
  "orig_nbformat": 4
 },
 "nbformat": 4,
 "nbformat_minor": 2
}
